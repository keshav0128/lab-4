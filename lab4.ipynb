{
 "cells": [
  {
   "cell_type": "code",
   "execution_count": 5,
   "metadata": {},
   "outputs": [
    {
     "name": "stdout",
     "output_type": "stream",
     "text": [
      "enter the user name: keshav\n",
      "enter the password: kkeshav111\n",
      "['kkeshav111']\n",
      "password not valid\n",
      "enter the password: kkeshav@111\n",
      "['kkeshav111', 'kkeshav@111']\n",
      "password not valid\n",
      "enter the password: Kkeshav@111\n",
      "['kkeshav111', 'kkeshav@111', 'Kkeshav@111']\n",
      "Password verified\n"
     ]
    }
   ],
   "source": [
    "#question 1\n",
    "name=str(input(\"enter the user name: \"))\n",
    "\n",
    "p=[]\n",
    "for i in range(3):\n",
    "    a=str(input(\"enter the password: \"))\n",
    "    p.append(a)\n",
    "    print(p)\n",
    "    x=len(p[i])\n",
    "    lower = 0\n",
    "    capital = 0\n",
    "    num = 0\n",
    "    symbol =0\n",
    "    for j in range(x):\n",
    "        y=str(p[i])\n",
    "        l=y[j]\n",
    "        if l.islower():\n",
    "            lower += 1\n",
    "        if l.isupper():\n",
    "            capital += 1\n",
    "        if l.isdigit():\n",
    "            num += 1\n",
    "        if l == '$':\n",
    "            symbol +=1\n",
    "        if l == '@':\n",
    "            symbol +=1\n",
    "        if l == '#':\n",
    "            symbol +=1\n",
    "    if x >= 6 and x <= 12:\n",
    "        if lower >=1 and capital >=1 and num >=1 and symbol >=1:\n",
    "            print('Password verified')\n",
    "        else:\n",
    "            print(\"password not valid\")"
   ]
  },
  {
   "cell_type": "code",
   "execution_count": 6,
   "metadata": {},
   "outputs": [
    {
     "name": "stdout",
     "output_type": "stream",
     "text": [
      "totat no of enquires: 4\n",
      "name,age height: keshav,19,175\n",
      "name,age height: aditya,18,176\n",
      "name,age height: keshav,19,177\n",
      "name,age height: Virat,28,180\n",
      "[('Virat', '28', '180'), ('aditya', '18', '176'), ('keshav', '19', '175'), ('keshav', '19', '177')]\n"
     ]
    }
   ],
   "source": [
    "#question 2\n",
    "from operator import itemgetter\n",
    "n=int(input(\"totat no of enquires: \"))\n",
    "l=[]\n",
    "i=1\n",
    "while i<=n:\n",
    "    data=input(\"name,age height: \")\n",
    "    if data==\" \":\n",
    "        print(\"enter the data: \")\n",
    "    else:\n",
    "        l.append(tuple(data.split(\",\")))\n",
    "    i+=1\n",
    "print(sorted(l, key=itemgetter(0,1,2)))\n"
   ]
  },
  {
   "cell_type": "code",
   "execution_count": 2,
   "metadata": {},
   "outputs": [
    {
     "name": "stdout",
     "output_type": "stream",
     "text": [
      "enter list: 4,6,1,7,5,9,5,4,2,8,1\n",
      "orignal list:  (4, 6, 1, 7, 5, 9, 5, 4, 2, 8, 1)\n",
      "after removing duplicates:  [6, 7, 9, 2, 8, 4, 1, 5]\n"
     ]
    }
   ],
   "source": [
    "#question 5\n",
    "a=eval(input(\"enter list: \"))\n",
    "l=len(a)\n",
    "u=[]\n",
    "d=[]\n",
    "count=i=0\n",
    "while i<l:\n",
    "    element=a[i]\n",
    "    count=1\n",
    "    i+=1\n",
    "    if element not in u and element not in d:\n",
    "        for j in range(i,l):\n",
    "            if element==a[j]:\n",
    "                count+=1\n",
    "        else:\n",
    "            if count==1:\n",
    "                u.append(element)\n",
    "            else:\n",
    "                d.append(element)\n",
    "    else:\n",
    "        i+1\n",
    "print(\"orignal list: \",a)\n",
    "\n",
    "f=u+d\n",
    "print(\"after removing duplicates: \",f)"
   ]
  },
  {
   "cell_type": "code",
   "execution_count": 3,
   "metadata": {},
   "outputs": [
    {
     "name": "stdout",
     "output_type": "stream",
     "text": [
      "enter the string: h2h5h3e8l8l0o\n",
      "hhhello\n"
     ]
    }
   ],
   "source": [
    "#question4\n",
    "a=input(\"enter the string: \")\n",
    "b=a[::2]\n",
    "print(b)"
   ]
  },
  {
   "cell_type": "code",
   "execution_count": null,
   "metadata": {},
   "outputs": [],
   "source": []
  }
 ],
 "metadata": {
  "kernelspec": {
   "display_name": "Python 3",
   "language": "python",
   "name": "python3"
  },
  "language_info": {
   "codemirror_mode": {
    "name": "ipython",
    "version": 3
   },
   "file_extension": ".py",
   "mimetype": "text/x-python",
   "name": "python",
   "nbconvert_exporter": "python",
   "pygments_lexer": "ipython3",
   "version": "3.8.3"
  }
 },
 "nbformat": 4,
 "nbformat_minor": 4
}
